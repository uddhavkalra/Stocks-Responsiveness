{
 "cells": [
  {
   "cell_type": "code",
   "execution_count": 1,
   "id": "326d4cef",
   "metadata": {},
   "outputs": [],
   "source": [
    "import pandas as pd\n",
    "import numpy as np\n",
    "import matplotlib.pyplot as plt"
   ]
  },
  {
   "cell_type": "code",
   "execution_count": 2,
   "id": "2ed5a9de",
   "metadata": {},
   "outputs": [],
   "source": [
    "crsp_data = pd.read_excel(\"Data/CRSP_fund.xlsx\")\n",
    "#crsp_data"
   ]
  },
  {
   "cell_type": "code",
   "execution_count": 3,
   "id": "87e80a31",
   "metadata": {},
   "outputs": [
    {
     "data": {
      "text/plain": [
       "Index(['Frequency: A - annual; Q - quarterly; M - monthly; QM - quarterly and monthly; AQM - annual, quarterly, and monthly',\n",
       "       'Fund Identifier', 'Date', 'CUSIP (8-digit)', 'Fund Name', 'ticker',\n",
       "       'Fund CUSIP', 'Management Company Name', 'Management Company Number',\n",
       "       'Portfolio Manager Name', 'index_fund_flag', 'Date of latest NAV data',\n",
       "       'Dead Fund Indicator', 'Portfolio Identifier'],\n",
       "      dtype='object')"
      ]
     },
     "execution_count": 3,
     "metadata": {},
     "output_type": "execute_result"
    }
   ],
   "source": [
    "crsp_data.columns"
   ]
  },
  {
   "cell_type": "code",
   "execution_count": 4,
   "id": "2164eac4",
   "metadata": {},
   "outputs": [],
   "source": [
    "crsp_data2 = crsp_data[['Date','Fund Identifier','CUSIP (8-digit)','Fund Name','ticker','Fund CUSIP','Management Company Name','Management Company Number', 'index_fund_flag']]"
   ]
  },
  {
   "cell_type": "code",
   "execution_count": 5,
   "id": "e00ffc82",
   "metadata": {},
   "outputs": [],
   "source": [
    "index_flag_funds = crsp_data2[crsp_data2['index_fund_flag'].isin(['B', 'D', 'E'])]\n",
    "#index_flag_funds"
   ]
  },
  {
   "cell_type": "code",
   "execution_count": 6,
   "id": "99e72d30",
   "metadata": {},
   "outputs": [],
   "source": [
    "unique_fund = index_flag_funds['Fund Name'].unique()\n",
    "with open('unique_fund.txt', 'w') as f:\n",
    "    for i in unique_fund:\n",
    "        f.write(f\"{i}\\n\")"
   ]
  },
  {
   "cell_type": "code",
   "execution_count": 7,
   "id": "fd3359d0",
   "metadata": {},
   "outputs": [],
   "source": [
    "lseg_data = pd.read_csv(\"Data/LSEG_fund.csv\")\n",
    "#lseg_data"
   ]
  },
  {
   "cell_type": "code",
   "execution_count": 8,
   "id": "2ed38a44",
   "metadata": {},
   "outputs": [],
   "source": [
    "lseg_data2 = lseg_data[lseg_data['(shrout1) Shares Outstanding in Millions, as of FDATE'].isna() == False]"
   ]
  },
  {
   "cell_type": "code",
   "execution_count": 9,
   "id": "ceb5139b",
   "metadata": {},
   "outputs": [],
   "source": [
    "unique_funds2 = lseg_data2['(fundname) Fund Name (The name of the mutual abbreviated to fit'].unique()\n",
    "with open('unique_fund2.txt', 'w') as f:\n",
    "    for i in unique_funds2:\n",
    "        f.write(f\"{i}\\n\")"
   ]
  },
  {
   "cell_type": "code",
   "execution_count": 10,
   "id": "7195cfe9",
   "metadata": {},
   "outputs": [
    {
     "name": "stderr",
     "output_type": "stream",
     "text": [
      "/var/folders/5b/jc4253hj4rl3y0jlxy2y3trm0000gn/T/ipykernel_49521/2091330282.py:1: SettingWithCopyWarning: \n",
      "A value is trying to be set on a copy of a slice from a DataFrame.\n",
      "Try using .loc[row_indexer,col_indexer] = value instead\n",
      "\n",
      "See the caveats in the documentation: https://pandas.pydata.org/pandas-docs/stable/user_guide/indexing.html#returning-a-view-versus-a-copy\n",
      "  index_flag_funds['Date'] = pd.to_datetime(index_flag_funds['Date'])\n",
      "/var/folders/5b/jc4253hj4rl3y0jlxy2y3trm0000gn/T/ipykernel_49521/2091330282.py:2: SettingWithCopyWarning: \n",
      "A value is trying to be set on a copy of a slice from a DataFrame.\n",
      "Try using .loc[row_indexer,col_indexer] = value instead\n",
      "\n",
      "See the caveats in the documentation: https://pandas.pydata.org/pandas-docs/stable/user_guide/indexing.html#returning-a-view-versus-a-copy\n",
      "  lseg_data2['(fdate) File Date'] = pd.to_datetime(lseg_data2['(fdate) File Date'])\n"
     ]
    }
   ],
   "source": [
    "index_flag_funds['Date'] = pd.to_datetime(index_flag_funds['Date'])\n",
    "lseg_data2['(fdate) File Date'] = pd.to_datetime(lseg_data2['(fdate) File Date'])"
   ]
  }
 ],
 "metadata": {
  "kernelspec": {
   "display_name": "Py_3",
   "language": "python",
   "name": "python3"
  },
  "language_info": {
   "codemirror_mode": {
    "name": "ipython",
    "version": 3
   },
   "file_extension": ".py",
   "mimetype": "text/x-python",
   "name": "python",
   "nbconvert_exporter": "python",
   "pygments_lexer": "ipython3",
   "version": "3.11.3"
  }
 },
 "nbformat": 4,
 "nbformat_minor": 5
}
